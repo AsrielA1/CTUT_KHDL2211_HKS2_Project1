{
 "cells": [
  {
   "cell_type": "code",
   "execution_count": 1,
   "metadata": {},
   "outputs": [
    {
     "name": "stdout",
     "output_type": "stream",
     "text": [
      "tensor([True, True])\n"
     ]
    }
   ],
   "source": [
    "import torch\n",
    "\n",
    "def is_overlapping(box1, box2):\n",
    "\n",
    "  # Ensure both tensors have the same dimensionality (N, 4) and device\n",
    "  box1 = box1.view(-1, 4).to(box2.device)\n",
    "  box2 = box2.view(-1, 4).to(box1.device)\n",
    "\n",
    "  # Calculate the area of overlap for all box pairs\n",
    "  conditions = [\n",
    "      box1[:, 0] < box2[:, 2],  # x1 of box1 < x2 of box2\n",
    "      box1[:, 1] < box2[:, 3],  # y1 of box1 < y2 of box2\n",
    "      box1[:, 2] > box2[:, 0],  # x2 of box1 > x1 of box2\n",
    "      box1[:, 3] > box2[:, 1]   # y2 of box1 > y1 of box2\n",
    "  ]\n",
    "  intersection = torch.all(torch.stack(conditions), dim=0)\n",
    "\n",
    "  return intersection\n",
    "\n",
    "# Example usage\n",
    "box1 = torch.tensor([[1, 2, 4, 5], [3, 1, 5, 4]])\n",
    "box2 = torch.tensor([[2, 3, 5, 6], [0, 0, 7, 7]])\n",
    "\n",
    "overlap_matrix = is_overlapping(box1, box2)\n",
    "print(overlap_matrix)\n"
   ]
  },
  {
   "cell_type": "code",
   "execution_count": null,
   "metadata": {},
   "outputs": [],
   "source": [
    "import torch\n",
    "\n",
    "def intersection_area(boxes1, boxes2):\n",
    "  \"\"\"\n",
    "  Calculates the intersection area between two tensors of bounding boxes.\n",
    "\n",
    "  Args:\n",
    "      boxes1: A torch tensor of shape (batch_size, 4) representing bounding boxes \n",
    "              with format [x1, y1, x2, y2].\n",
    "      boxes2: A torch tensor of the same shape as boxes1.\n",
    "\n",
    "  Returns:\n",
    "      A torch tensor of shape (batch_size,) representing the intersection area \n",
    "      for each bounding box in the batch.\n",
    "  \"\"\"\n",
    "  # Get the top left corner coordinates for both boxes\n",
    "  tl_x1 = torch.max(boxes1[:, 0], boxes2[:, 0])\n",
    "  tl_y1 = torch.max(boxes1[:, 1], boxes2[:, 1])\n",
    "\n",
    "  # Get the bottom right corner coordinates for both boxes\n",
    "  br_x2 = torch.min(boxes1[:, 2], boxes2[:, 2])\n",
    "  br_y2 = torch.min(boxes1[:, 3], boxes2[:, 3])\n",
    "\n",
    "  # Ensure width and height are non-negative (no intersection)\n",
    "  intersection_width = torch.clamp(br_x2 - tl_x1, min=0)\n",
    "  intersection_height = torch.clamp(br_y2 - tl_y1, min=0)\n",
    "\n",
    "  # Calculate the intersection area\n",
    "  intersection_area = intersection_width * intersection_height\n",
    "\n",
    "  return intersection_area\n",
    "\n",
    "# Example usage\n",
    "boxes1 = torch.tensor([[1, 2, 4, 5], [3, 4, 6, 7]])\n",
    "boxes2 = torch.tensor([[2, 3, 5, 6], [1, 1, 5, 5]])\n",
    "\n",
    "intersection_areas = intersection_area(boxes1, boxes2)\n",
    "print(intersection_areas)\n"
   ]
  },
  {
   "cell_type": "code",
   "execution_count": 11,
   "metadata": {},
   "outputs": [
    {
     "name": "stdout",
     "output_type": "stream",
     "text": [
      "tensor([[1., 2., 3., 4., 5.],\n",
      "        [1., 5., 6., 7., 9.]])\n",
      "<class 'torch.Tensor'>\n",
      "<class 'torch.Tensor'>\n"
     ]
    }
   ],
   "source": [
    "import torch \n",
    "\n",
    "data = torch.Tensor([[1, 5, 4, 2, 3], [9, 6, 6, 7, 1]])\n",
    "b = torch.sort(a, descending=False).values\n",
    "print(b)\n",
    "print(type(a))\n",
    "print(type(b))"
   ]
  },
  {
   "cell_type": "code",
   "execution_count": 15,
   "metadata": {},
   "outputs": [
    {
     "name": "stdout",
     "output_type": "stream",
     "text": [
      "tensor([[1., 5., 4., 2., 3.],\n",
      "        [9., 6., 6., 7., 1.]])\n"
     ]
    }
   ],
   "source": [
    "sorted_data = torch.tensor(sorted(data.numpy(), key=lambda x: x[1]))\n",
    "print(sorted_data)"
   ]
  },
  {
   "cell_type": "code",
   "execution_count": 14,
   "metadata": {},
   "outputs": [
    {
     "data": {
      "text/plain": [
       "tensor([[1., 2., 3., 4., 5.],\n",
       "        [1., 5., 6., 7., 9.]])"
      ]
     },
     "execution_count": 14,
     "metadata": {},
     "output_type": "execute_result"
    }
   ],
   "source": [
    "torch.tensor(b.numpy())"
   ]
  },
  {
   "cell_type": "code",
   "execution_count": null,
   "metadata": {},
   "outputs": [],
   "source": []
  }
 ],
 "metadata": {
  "kernelspec": {
   "display_name": "dl",
   "language": "python",
   "name": "python3"
  },
  "language_info": {
   "codemirror_mode": {
    "name": "ipython",
    "version": 3
   },
   "file_extension": ".py",
   "mimetype": "text/x-python",
   "name": "python",
   "nbconvert_exporter": "python",
   "pygments_lexer": "ipython3",
   "version": "3.11.9"
  }
 },
 "nbformat": 4,
 "nbformat_minor": 2
}
